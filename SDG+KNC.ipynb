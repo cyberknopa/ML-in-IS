{
  "nbformat": 4,
  "nbformat_minor": 0,
  "metadata": {
    "colab": {
      "provenance": [],
      "collapsed_sections": [],
      "mount_file_id": "12Z4SSHTLrJW88wh2RlIubWGO8U6rvgOh",
      "authorship_tag": "ABX9TyNGmJ0WPfL/wco5bOueTtMy",
      "include_colab_link": true
    },
    "kernelspec": {
      "name": "python3",
      "display_name": "Python 3"
    },
    "language_info": {
      "name": "python"
    }
  },
  "cells": [
    {
      "cell_type": "markdown",
      "metadata": {
        "id": "view-in-github",
        "colab_type": "text"
      },
      "source": [
        "<a href=\"https://colab.research.google.com/github/cyberknopa/ML-in-IS/blob/main/Untitled3.ipynb\" target=\"_parent\"><img src=\"https://colab.research.google.com/assets/colab-badge.svg\" alt=\"Open In Colab\"/></a>"
      ]
    },
    {
      "cell_type": "code",
      "source": [
        "import pandas as pd"
      ],
      "metadata": {
        "id": "DpzIXqEubSyu"
      },
      "execution_count": 105,
      "outputs": []
    },
    {
      "cell_type": "code",
      "source": [
        "df_habr = pd.read_csv('randomall.csv')\n",
        "df_habr.head()"
      ],
      "metadata": {
        "colab": {
          "base_uri": "https://localhost:8080/",
          "height": 204
        },
        "id": "N8dDT6zibTiU",
        "outputId": "1f9bc693-f8c6-40e7-99ea-4db14a307088"
      },
      "execution_count": 106,
      "outputs": [
        {
          "output_type": "execute_result",
          "data": {
            "text/plain": [
              "                                                text  label\n",
              "0  Актера  Алексея Панина  выгнали с церемонии пр...      1\n",
              "1  Генпрокурор США  Уильям Барр  раскритиковал  к...      1\n",
              "2  Перспектива снижения пенсионного возраста в Ро...      1\n",
              "3  Группа «Черкизово» , крупнейший производитель ...      1\n",
              "4  TikTok -блогер с ником AsapSCIENCE поделился с...      1"
            ],
            "text/html": [
              "\n",
              "  <div id=\"df-bacaf5c6-f5b7-402a-951d-b0e96f29d03f\">\n",
              "    <div class=\"colab-df-container\">\n",
              "      <div>\n",
              "<style scoped>\n",
              "    .dataframe tbody tr th:only-of-type {\n",
              "        vertical-align: middle;\n",
              "    }\n",
              "\n",
              "    .dataframe tbody tr th {\n",
              "        vertical-align: top;\n",
              "    }\n",
              "\n",
              "    .dataframe thead th {\n",
              "        text-align: right;\n",
              "    }\n",
              "</style>\n",
              "<table border=\"1\" class=\"dataframe\">\n",
              "  <thead>\n",
              "    <tr style=\"text-align: right;\">\n",
              "      <th></th>\n",
              "      <th>text</th>\n",
              "      <th>label</th>\n",
              "    </tr>\n",
              "  </thead>\n",
              "  <tbody>\n",
              "    <tr>\n",
              "      <th>0</th>\n",
              "      <td>Актера  Алексея Панина  выгнали с церемонии пр...</td>\n",
              "      <td>1</td>\n",
              "    </tr>\n",
              "    <tr>\n",
              "      <th>1</th>\n",
              "      <td>Генпрокурор США  Уильям Барр  раскритиковал  к...</td>\n",
              "      <td>1</td>\n",
              "    </tr>\n",
              "    <tr>\n",
              "      <th>2</th>\n",
              "      <td>Перспектива снижения пенсионного возраста в Ро...</td>\n",
              "      <td>1</td>\n",
              "    </tr>\n",
              "    <tr>\n",
              "      <th>3</th>\n",
              "      <td>Группа «Черкизово» , крупнейший производитель ...</td>\n",
              "      <td>1</td>\n",
              "    </tr>\n",
              "    <tr>\n",
              "      <th>4</th>\n",
              "      <td>TikTok -блогер с ником AsapSCIENCE поделился с...</td>\n",
              "      <td>1</td>\n",
              "    </tr>\n",
              "  </tbody>\n",
              "</table>\n",
              "</div>\n",
              "      <button class=\"colab-df-convert\" onclick=\"convertToInteractive('df-bacaf5c6-f5b7-402a-951d-b0e96f29d03f')\"\n",
              "              title=\"Convert this dataframe to an interactive table.\"\n",
              "              style=\"display:none;\">\n",
              "        \n",
              "  <svg xmlns=\"http://www.w3.org/2000/svg\" height=\"24px\"viewBox=\"0 0 24 24\"\n",
              "       width=\"24px\">\n",
              "    <path d=\"M0 0h24v24H0V0z\" fill=\"none\"/>\n",
              "    <path d=\"M18.56 5.44l.94 2.06.94-2.06 2.06-.94-2.06-.94-.94-2.06-.94 2.06-2.06.94zm-11 1L8.5 8.5l.94-2.06 2.06-.94-2.06-.94L8.5 2.5l-.94 2.06-2.06.94zm10 10l.94 2.06.94-2.06 2.06-.94-2.06-.94-.94-2.06-.94 2.06-2.06.94z\"/><path d=\"M17.41 7.96l-1.37-1.37c-.4-.4-.92-.59-1.43-.59-.52 0-1.04.2-1.43.59L10.3 9.45l-7.72 7.72c-.78.78-.78 2.05 0 2.83L4 21.41c.39.39.9.59 1.41.59.51 0 1.02-.2 1.41-.59l7.78-7.78 2.81-2.81c.8-.78.8-2.07 0-2.86zM5.41 20L4 18.59l7.72-7.72 1.47 1.35L5.41 20z\"/>\n",
              "  </svg>\n",
              "      </button>\n",
              "      \n",
              "  <style>\n",
              "    .colab-df-container {\n",
              "      display:flex;\n",
              "      flex-wrap:wrap;\n",
              "      gap: 12px;\n",
              "    }\n",
              "\n",
              "    .colab-df-convert {\n",
              "      background-color: #E8F0FE;\n",
              "      border: none;\n",
              "      border-radius: 50%;\n",
              "      cursor: pointer;\n",
              "      display: none;\n",
              "      fill: #1967D2;\n",
              "      height: 32px;\n",
              "      padding: 0 0 0 0;\n",
              "      width: 32px;\n",
              "    }\n",
              "\n",
              "    .colab-df-convert:hover {\n",
              "      background-color: #E2EBFA;\n",
              "      box-shadow: 0px 1px 2px rgba(60, 64, 67, 0.3), 0px 1px 3px 1px rgba(60, 64, 67, 0.15);\n",
              "      fill: #174EA6;\n",
              "    }\n",
              "\n",
              "    [theme=dark] .colab-df-convert {\n",
              "      background-color: #3B4455;\n",
              "      fill: #D2E3FC;\n",
              "    }\n",
              "\n",
              "    [theme=dark] .colab-df-convert:hover {\n",
              "      background-color: #434B5C;\n",
              "      box-shadow: 0px 1px 3px 1px rgba(0, 0, 0, 0.15);\n",
              "      filter: drop-shadow(0px 1px 2px rgba(0, 0, 0, 0.3));\n",
              "      fill: #FFFFFF;\n",
              "    }\n",
              "  </style>\n",
              "\n",
              "      <script>\n",
              "        const buttonEl =\n",
              "          document.querySelector('#df-bacaf5c6-f5b7-402a-951d-b0e96f29d03f button.colab-df-convert');\n",
              "        buttonEl.style.display =\n",
              "          google.colab.kernel.accessAllowed ? 'block' : 'none';\n",
              "\n",
              "        async function convertToInteractive(key) {\n",
              "          const element = document.querySelector('#df-bacaf5c6-f5b7-402a-951d-b0e96f29d03f');\n",
              "          const dataTable =\n",
              "            await google.colab.kernel.invokeFunction('convertToInteractive',\n",
              "                                                     [key], {});\n",
              "          if (!dataTable) return;\n",
              "\n",
              "          const docLinkHtml = 'Like what you see? Visit the ' +\n",
              "            '<a target=\"_blank\" href=https://colab.research.google.com/notebooks/data_table.ipynb>data table notebook</a>'\n",
              "            + ' to learn more about interactive tables.';\n",
              "          element.innerHTML = '';\n",
              "          dataTable['output_type'] = 'display_data';\n",
              "          await google.colab.output.renderOutput(dataTable, element);\n",
              "          const docLink = document.createElement('div');\n",
              "          docLink.innerHTML = docLinkHtml;\n",
              "          element.appendChild(docLink);\n",
              "        }\n",
              "      </script>\n",
              "    </div>\n",
              "  </div>\n",
              "  "
            ]
          },
          "metadata": {},
          "execution_count": 106
        }
      ]
    },
    {
      "cell_type": "code",
      "source": [
        "import nltk\n",
        "nltk.download(\"stopwords\")\n",
        "from nltk.corpus import stopwords\n",
        "from string import punctuation\n",
        "russian_stopwords = stopwords.words(\"russian\")"
      ],
      "metadata": {
        "colab": {
          "base_uri": "https://localhost:8080/"
        },
        "id": "KYmycT7keQ97",
        "outputId": "df8bf9aa-0145-4e40-84a4-373a9e82e05a"
      },
      "execution_count": 107,
      "outputs": [
        {
          "output_type": "stream",
          "name": "stderr",
          "text": [
            "[nltk_data] Downloading package stopwords to /root/nltk_data...\n",
            "[nltk_data]   Package stopwords is already up-to-date!\n"
          ]
        }
      ]
    },
    {
      "cell_type": "code",
      "source": [
        "# Удаление знаков пунктуации из текста\n",
        "def remove_punct(text):\n",
        "    table = {33: ' ', 34: ' ', 35: ' ', 36: ' ', 37: ' ', 38: ' ', 39: ' ', 40: ' ', 41: ' ', 42: ' ', 43: ' ', 44: ' ', 45: ' ', 46: ' ', 47: ' ', 58: ' ', 59: ' ', 60: ' ', 61: ' ', 62: ' ', 63: ' ', 64: ' ', 91: ' ', 92: ' ', 93: ' ', 94: ' ', 95: ' ', 96: ' ', 123: ' ', 124: ' ', 125: ' ', 126: ' '}\n",
        "    return text.translate(table)"
      ],
      "metadata": {
        "id": "aa4ZE5_Se0H2"
      },
      "execution_count": 108,
      "outputs": []
    },
    {
      "cell_type": "code",
      "source": [
        "df_habr.info()"
      ],
      "metadata": {
        "colab": {
          "base_uri": "https://localhost:8080/"
        },
        "id": "hDyYXMuokeHd",
        "outputId": "e520e87f-637e-4db9-fca7-f7a5e43946ea"
      },
      "execution_count": 109,
      "outputs": [
        {
          "output_type": "stream",
          "name": "stdout",
          "text": [
            "<class 'pandas.core.frame.DataFrame'>\n",
            "RangeIndex: 2666 entries, 0 to 2665\n",
            "Data columns (total 2 columns):\n",
            " #   Column  Non-Null Count  Dtype \n",
            "---  ------  --------------  ----- \n",
            " 0   text    2665 non-null   object\n",
            " 1   label   2666 non-null   int64 \n",
            "dtypes: int64(1), object(1)\n",
            "memory usage: 41.8+ KB\n"
          ]
        }
      ]
    },
    {
      "cell_type": "code",
      "source": [
        "df_habr.text=df_habr.text.astype(str)"
      ],
      "metadata": {
        "id": "PzKVMJgfmVru"
      },
      "execution_count": 110,
      "outputs": []
    },
    {
      "cell_type": "code",
      "source": [
        "df_habr['clean'] = df_habr['text'].map(lambda x: x.lower())"
      ],
      "metadata": {
        "id": "J46QxcKJhrgq"
      },
      "execution_count": 111,
      "outputs": []
    },
    {
      "cell_type": "code",
      "source": [
        "df_habr['clean'] = df_habr['clean'].map(lambda x: remove_punct(x))\n",
        "df_habr['clean'] = df_habr['clean'].map(lambda x: x.split(' '))\n",
        "df_habr['clean'] = df_habr['clean'].map(lambda x: [token for token in x if token not in russian_stopwords\\\n",
        "                                                                  and token != \" \" \\\n",
        "                                                                  and token.strip() not in punctuation])\n",
        "df_habr['clean'] = df_habr['clean'].map(lambda x: ' '.join(x))"
      ],
      "metadata": {
        "id": "GFZnUU9Kl5CA"
      },
      "execution_count": 112,
      "outputs": []
    },
    {
      "cell_type": "code",
      "source": [
        "from sklearn.model_selection import train_test_split\n",
        "X_train, X_valid, y_train, y_valid = train_test_split(df_habr ['clean'], df_habr ['label'], test_size=0.1, random_state=42)\n",
        "X_train, X_test, y_train, y_test = train_test_split(X_train, y_train, test_size=0.2, random_state=42)"
      ],
      "metadata": {
        "id": "zze5bYvQfrri"
      },
      "execution_count": 113,
      "outputs": []
    },
    {
      "cell_type": "code",
      "source": [
        "display(df_habr)"
      ],
      "metadata": {
        "colab": {
          "base_uri": "https://localhost:8080/",
          "height": 419
        },
        "id": "N3XJyT3VgNnH",
        "outputId": "5c101ba6-9fad-4a37-dba0-baeea91d385d"
      },
      "execution_count": 114,
      "outputs": [
        {
          "output_type": "display_data",
          "data": {
            "text/plain": [
              "                                                   text  label  \\\n",
              "0     Актера  Алексея Панина  выгнали с церемонии пр...      1   \n",
              "1     Генпрокурор США  Уильям Барр  раскритиковал  к...      1   \n",
              "2     Перспектива снижения пенсионного возраста в Ро...      1   \n",
              "3     Группа «Черкизово» , крупнейший производитель ...      1   \n",
              "4     TikTok -блогер с ником AsapSCIENCE поделился с...      1   \n",
              "...                                                 ...    ...   \n",
              "2661  Цены на недвижимость в Черногории в обозримом ...      1   \n",
              "2662  Соответствующее постановление правительства бы...      0   \n",
              "2663  Чудовищное известие пришло к нам 6 сентября из...      0   \n",
              "2664  Открывший стрельбу из окна дома пьяный житель ...      1   \n",
              "2665  В Подмосковье за отсутствие маски в общественн...      1   \n",
              "\n",
              "                                                  clean  \n",
              "0     актера алексея панина выгнали церемонии прощан...  \n",
              "1     генпрокурор сша уильям барр раскритиковал комп...  \n",
              "2     перспектива снижения пенсионного возраста росс...  \n",
              "3     группа «черкизово» крупнейший производитель мя...  \n",
              "4     tiktok блогер ником asapscience поделился подп...  \n",
              "...                                                 ...  \n",
              "2661  цены недвижимость черногории обозримом будущем...  \n",
              "2662  соответствующее постановление правительства из...  \n",
              "2663  чудовищное известие пришло нам 6 сентября синг...  \n",
              "2664  открывший стрельбу окна дома пьяный житель юго...  \n",
              "2665  подмосковье отсутствие маски общественном мест...  \n",
              "\n",
              "[2666 rows x 3 columns]"
            ],
            "text/html": [
              "\n",
              "  <div id=\"df-29ed68f5-a2aa-494c-b0f0-4dcb6e8fc28b\">\n",
              "    <div class=\"colab-df-container\">\n",
              "      <div>\n",
              "<style scoped>\n",
              "    .dataframe tbody tr th:only-of-type {\n",
              "        vertical-align: middle;\n",
              "    }\n",
              "\n",
              "    .dataframe tbody tr th {\n",
              "        vertical-align: top;\n",
              "    }\n",
              "\n",
              "    .dataframe thead th {\n",
              "        text-align: right;\n",
              "    }\n",
              "</style>\n",
              "<table border=\"1\" class=\"dataframe\">\n",
              "  <thead>\n",
              "    <tr style=\"text-align: right;\">\n",
              "      <th></th>\n",
              "      <th>text</th>\n",
              "      <th>label</th>\n",
              "      <th>clean</th>\n",
              "    </tr>\n",
              "  </thead>\n",
              "  <tbody>\n",
              "    <tr>\n",
              "      <th>0</th>\n",
              "      <td>Актера  Алексея Панина  выгнали с церемонии пр...</td>\n",
              "      <td>1</td>\n",
              "      <td>актера алексея панина выгнали церемонии прощан...</td>\n",
              "    </tr>\n",
              "    <tr>\n",
              "      <th>1</th>\n",
              "      <td>Генпрокурор США  Уильям Барр  раскритиковал  к...</td>\n",
              "      <td>1</td>\n",
              "      <td>генпрокурор сша уильям барр раскритиковал комп...</td>\n",
              "    </tr>\n",
              "    <tr>\n",
              "      <th>2</th>\n",
              "      <td>Перспектива снижения пенсионного возраста в Ро...</td>\n",
              "      <td>1</td>\n",
              "      <td>перспектива снижения пенсионного возраста росс...</td>\n",
              "    </tr>\n",
              "    <tr>\n",
              "      <th>3</th>\n",
              "      <td>Группа «Черкизово» , крупнейший производитель ...</td>\n",
              "      <td>1</td>\n",
              "      <td>группа «черкизово» крупнейший производитель мя...</td>\n",
              "    </tr>\n",
              "    <tr>\n",
              "      <th>4</th>\n",
              "      <td>TikTok -блогер с ником AsapSCIENCE поделился с...</td>\n",
              "      <td>1</td>\n",
              "      <td>tiktok блогер ником asapscience поделился подп...</td>\n",
              "    </tr>\n",
              "    <tr>\n",
              "      <th>...</th>\n",
              "      <td>...</td>\n",
              "      <td>...</td>\n",
              "      <td>...</td>\n",
              "    </tr>\n",
              "    <tr>\n",
              "      <th>2661</th>\n",
              "      <td>Цены на недвижимость в Черногории в обозримом ...</td>\n",
              "      <td>1</td>\n",
              "      <td>цены недвижимость черногории обозримом будущем...</td>\n",
              "    </tr>\n",
              "    <tr>\n",
              "      <th>2662</th>\n",
              "      <td>Соответствующее постановление правительства бы...</td>\n",
              "      <td>0</td>\n",
              "      <td>соответствующее постановление правительства из...</td>\n",
              "    </tr>\n",
              "    <tr>\n",
              "      <th>2663</th>\n",
              "      <td>Чудовищное известие пришло к нам 6 сентября из...</td>\n",
              "      <td>0</td>\n",
              "      <td>чудовищное известие пришло нам 6 сентября синг...</td>\n",
              "    </tr>\n",
              "    <tr>\n",
              "      <th>2664</th>\n",
              "      <td>Открывший стрельбу из окна дома пьяный житель ...</td>\n",
              "      <td>1</td>\n",
              "      <td>открывший стрельбу окна дома пьяный житель юго...</td>\n",
              "    </tr>\n",
              "    <tr>\n",
              "      <th>2665</th>\n",
              "      <td>В Подмосковье за отсутствие маски в общественн...</td>\n",
              "      <td>1</td>\n",
              "      <td>подмосковье отсутствие маски общественном мест...</td>\n",
              "    </tr>\n",
              "  </tbody>\n",
              "</table>\n",
              "<p>2666 rows × 3 columns</p>\n",
              "</div>\n",
              "      <button class=\"colab-df-convert\" onclick=\"convertToInteractive('df-29ed68f5-a2aa-494c-b0f0-4dcb6e8fc28b')\"\n",
              "              title=\"Convert this dataframe to an interactive table.\"\n",
              "              style=\"display:none;\">\n",
              "        \n",
              "  <svg xmlns=\"http://www.w3.org/2000/svg\" height=\"24px\"viewBox=\"0 0 24 24\"\n",
              "       width=\"24px\">\n",
              "    <path d=\"M0 0h24v24H0V0z\" fill=\"none\"/>\n",
              "    <path d=\"M18.56 5.44l.94 2.06.94-2.06 2.06-.94-2.06-.94-.94-2.06-.94 2.06-2.06.94zm-11 1L8.5 8.5l.94-2.06 2.06-.94-2.06-.94L8.5 2.5l-.94 2.06-2.06.94zm10 10l.94 2.06.94-2.06 2.06-.94-2.06-.94-.94-2.06-.94 2.06-2.06.94z\"/><path d=\"M17.41 7.96l-1.37-1.37c-.4-.4-.92-.59-1.43-.59-.52 0-1.04.2-1.43.59L10.3 9.45l-7.72 7.72c-.78.78-.78 2.05 0 2.83L4 21.41c.39.39.9.59 1.41.59.51 0 1.02-.2 1.41-.59l7.78-7.78 2.81-2.81c.8-.78.8-2.07 0-2.86zM5.41 20L4 18.59l7.72-7.72 1.47 1.35L5.41 20z\"/>\n",
              "  </svg>\n",
              "      </button>\n",
              "      \n",
              "  <style>\n",
              "    .colab-df-container {\n",
              "      display:flex;\n",
              "      flex-wrap:wrap;\n",
              "      gap: 12px;\n",
              "    }\n",
              "\n",
              "    .colab-df-convert {\n",
              "      background-color: #E8F0FE;\n",
              "      border: none;\n",
              "      border-radius: 50%;\n",
              "      cursor: pointer;\n",
              "      display: none;\n",
              "      fill: #1967D2;\n",
              "      height: 32px;\n",
              "      padding: 0 0 0 0;\n",
              "      width: 32px;\n",
              "    }\n",
              "\n",
              "    .colab-df-convert:hover {\n",
              "      background-color: #E2EBFA;\n",
              "      box-shadow: 0px 1px 2px rgba(60, 64, 67, 0.3), 0px 1px 3px 1px rgba(60, 64, 67, 0.15);\n",
              "      fill: #174EA6;\n",
              "    }\n",
              "\n",
              "    [theme=dark] .colab-df-convert {\n",
              "      background-color: #3B4455;\n",
              "      fill: #D2E3FC;\n",
              "    }\n",
              "\n",
              "    [theme=dark] .colab-df-convert:hover {\n",
              "      background-color: #434B5C;\n",
              "      box-shadow: 0px 1px 3px 1px rgba(0, 0, 0, 0.15);\n",
              "      filter: drop-shadow(0px 1px 2px rgba(0, 0, 0, 0.3));\n",
              "      fill: #FFFFFF;\n",
              "    }\n",
              "  </style>\n",
              "\n",
              "      <script>\n",
              "        const buttonEl =\n",
              "          document.querySelector('#df-29ed68f5-a2aa-494c-b0f0-4dcb6e8fc28b button.colab-df-convert');\n",
              "        buttonEl.style.display =\n",
              "          google.colab.kernel.accessAllowed ? 'block' : 'none';\n",
              "\n",
              "        async function convertToInteractive(key) {\n",
              "          const element = document.querySelector('#df-29ed68f5-a2aa-494c-b0f0-4dcb6e8fc28b');\n",
              "          const dataTable =\n",
              "            await google.colab.kernel.invokeFunction('convertToInteractive',\n",
              "                                                     [key], {});\n",
              "          if (!dataTable) return;\n",
              "\n",
              "          const docLinkHtml = 'Like what you see? Visit the ' +\n",
              "            '<a target=\"_blank\" href=https://colab.research.google.com/notebooks/data_table.ipynb>data table notebook</a>'\n",
              "            + ' to learn more about interactive tables.';\n",
              "          element.innerHTML = '';\n",
              "          dataTable['output_type'] = 'display_data';\n",
              "          await google.colab.output.renderOutput(dataTable, element);\n",
              "          const docLink = document.createElement('div');\n",
              "          docLink.innerHTML = docLinkHtml;\n",
              "          element.appendChild(docLink);\n",
              "        }\n",
              "      </script>\n",
              "    </div>\n",
              "  </div>\n",
              "  "
            ]
          },
          "metadata": {}
        }
      ]
    },
    {
      "cell_type": "code",
      "source": [
        "from sklearn.pipeline import Pipeline\n",
        "# pipeline позволяет объединить в один блок трансформер и модель, что упрощает написание кода и улучшает его читаемость\n",
        "from sklearn.feature_extraction.text import TfidfVectorizer\n",
        "# TfidfVectorizer преобразует тексты в числовые вектора, отражающие важность использования каждого слова из некоторого набора слов (количество слов набора определяет размерность вектора) в каждом тексте\n",
        "from sklearn.linear_model import SGDClassifier\n",
        "from sklearn.neighbors import KNeighborsClassifier\n",
        "# линейный классификатор и классификатор методом ближайших соседей\n",
        "from sklearn import metrics\n",
        "# набор метрик для оценки качества модели\n",
        "from sklearn.model_selection import GridSearchCV\n",
        "# модуль поиска по сетке параметров"
      ],
      "metadata": {
        "id": "YSn88IIAgc0W"
      },
      "execution_count": 115,
      "outputs": []
    },
    {
      "cell_type": "code",
      "source": [
        "sgd_ppl_clf = Pipeline([\n",
        "    ('tfidf', TfidfVectorizer()),\n",
        "    ('sgd_clf', SGDClassifier(random_state=42))])\n",
        "knb_ppl_clf = Pipeline([\n",
        "    ('tfidf', TfidfVectorizer()),\n",
        "    ('knb_clf', KNeighborsClassifier(n_neighbors=10))])\n",
        "sgd_ppl_clf.fit(X_train, y_train)\n",
        "knb_ppl_clf.fit(X_train, y_train)"
      ],
      "metadata": {
        "colab": {
          "base_uri": "https://localhost:8080/"
        },
        "id": "_yYuNm_sgfy9",
        "outputId": "ac2e4d69-521e-4a18-92c1-8d982469ccef"
      },
      "execution_count": 116,
      "outputs": [
        {
          "output_type": "execute_result",
          "data": {
            "text/plain": [
              "Pipeline(steps=[('tfidf', TfidfVectorizer()),\n",
              "                ('knb_clf', KNeighborsClassifier(n_neighbors=10))])"
            ]
          },
          "metadata": {},
          "execution_count": 116
        }
      ]
    },
    {
      "cell_type": "code",
      "source": [
        "sgd_ppl_clf.fit(X_train, y_train)"
      ],
      "metadata": {
        "colab": {
          "base_uri": "https://localhost:8080/"
        },
        "id": "lb7bYD6JnzIp",
        "outputId": "e205eec9-8421-4713-91cb-650d555f3eeb"
      },
      "execution_count": 117,
      "outputs": [
        {
          "output_type": "execute_result",
          "data": {
            "text/plain": [
              "Pipeline(steps=[('tfidf', TfidfVectorizer()),\n",
              "                ('sgd_clf', SGDClassifier(random_state=42))])"
            ]
          },
          "metadata": {},
          "execution_count": 117
        }
      ]
    },
    {
      "cell_type": "code",
      "source": [
        "predicted_sgd = sgd_ppl_clf.predict(X_test)\n",
        "print(metrics.classification_report(predicted_sgd, y_test))"
      ],
      "metadata": {
        "colab": {
          "base_uri": "https://localhost:8080/"
        },
        "id": "Ly2RS1Ahn7gY",
        "outputId": "5ced7068-dfe3-40ee-cb2b-99f398257ac9"
      },
      "execution_count": 118,
      "outputs": [
        {
          "output_type": "stream",
          "name": "stdout",
          "text": [
            "              precision    recall  f1-score   support\n",
            "\n",
            "           0       0.95      0.98      0.97       215\n",
            "           1       0.98      0.96      0.97       265\n",
            "\n",
            "    accuracy                           0.97       480\n",
            "   macro avg       0.97      0.97      0.97       480\n",
            "weighted avg       0.97      0.97      0.97       480\n",
            "\n"
          ]
        }
      ]
    },
    {
      "cell_type": "code",
      "source": [
        "sgd_ppl_clf = Pipeline([\n",
        "    ('tfidf', TfidfVectorizer(ngram_range=(1, 4), strip_accents='unicode')),\n",
        "    ('sgd_clf', SGDClassifier(penalty='elasticnet', class_weight='balanced', random_state=42))\n",
        "])"
      ],
      "metadata": {
        "id": "yRvbxBrPoQ1O"
      },
      "execution_count": 119,
      "outputs": []
    },
    {
      "cell_type": "code",
      "source": [
        "sgd_ppl_clf.fit(X_train, y_train)"
      ],
      "metadata": {
        "colab": {
          "base_uri": "https://localhost:8080/"
        },
        "id": "t4NCzbTPoT8d",
        "outputId": "93fc3243-41be-41aa-bdc7-eec6d73d78d4"
      },
      "execution_count": 120,
      "outputs": [
        {
          "output_type": "execute_result",
          "data": {
            "text/plain": [
              "Pipeline(steps=[('tfidf',\n",
              "                 TfidfVectorizer(ngram_range=(1, 4), strip_accents='unicode')),\n",
              "                ('sgd_clf',\n",
              "                 SGDClassifier(class_weight='balanced', penalty='elasticnet',\n",
              "                               random_state=42))])"
            ]
          },
          "metadata": {},
          "execution_count": 120
        }
      ]
    },
    {
      "cell_type": "code",
      "source": [
        "predicted_sgd = sgd_ppl_clf.predict(X_test)\n",
        "print(metrics.classification_report(predicted_sgd, y_test))"
      ],
      "metadata": {
        "colab": {
          "base_uri": "https://localhost:8080/"
        },
        "id": "6aVnkM3doVkS",
        "outputId": "6c911495-f120-4886-d108-a2e162bbcba9"
      },
      "execution_count": 121,
      "outputs": [
        {
          "output_type": "stream",
          "name": "stdout",
          "text": [
            "              precision    recall  f1-score   support\n",
            "\n",
            "           0       0.90      0.98      0.94       200\n",
            "           1       0.99      0.92      0.95       280\n",
            "\n",
            "    accuracy                           0.95       480\n",
            "   macro avg       0.94      0.95      0.94       480\n",
            "weighted avg       0.95      0.95      0.95       480\n",
            "\n"
          ]
        }
      ]
    },
    {
      "cell_type": "code",
      "source": [
        "knb_ppl_clf.fit(X_train, y_train)"
      ],
      "metadata": {
        "colab": {
          "base_uri": "https://localhost:8080/"
        },
        "id": "3-0DloByoXMr",
        "outputId": "cefd14cf-a823-47bb-f7fd-8502ecdb5165"
      },
      "execution_count": 122,
      "outputs": [
        {
          "output_type": "execute_result",
          "data": {
            "text/plain": [
              "Pipeline(steps=[('tfidf', TfidfVectorizer()),\n",
              "                ('knb_clf', KNeighborsClassifier(n_neighbors=10))])"
            ]
          },
          "metadata": {},
          "execution_count": 122
        }
      ]
    },
    {
      "cell_type": "code",
      "source": [
        "predicted_sgd = knb_ppl_clf.predict(X_test)\n",
        "print(metrics.classification_report(predicted_sgd, y_test))"
      ],
      "metadata": {
        "colab": {
          "base_uri": "https://localhost:8080/"
        },
        "id": "Xs1eK5vYoYxV",
        "outputId": "d4eda55e-1724-48d8-9066-903c3b3cc863"
      },
      "execution_count": 123,
      "outputs": [
        {
          "output_type": "stream",
          "name": "stdout",
          "text": [
            "              precision    recall  f1-score   support\n",
            "\n",
            "           0       0.78      0.93      0.85       184\n",
            "           1       0.95      0.84      0.89       296\n",
            "\n",
            "    accuracy                           0.88       480\n",
            "   macro avg       0.87      0.89      0.87       480\n",
            "weighted avg       0.89      0.88      0.88       480\n",
            "\n"
          ]
        }
      ]
    },
    {
      "cell_type": "code",
      "source": [
        "predicted_sgd_val = sgd_ppl_clf.predict(X_valid)\n",
        "print(metrics.classification_report(predicted_sgd_val, y_valid))"
      ],
      "metadata": {
        "colab": {
          "base_uri": "https://localhost:8080/"
        },
        "id": "2vv3Rc5HoaXZ",
        "outputId": "89ebf16b-4fb1-465d-e277-f3d1893ee6fe"
      },
      "execution_count": 124,
      "outputs": [
        {
          "output_type": "stream",
          "name": "stdout",
          "text": [
            "              precision    recall  f1-score   support\n",
            "\n",
            "           0       0.92      1.00      0.96       112\n",
            "           1       1.00      0.94      0.97       155\n",
            "\n",
            "    accuracy                           0.96       267\n",
            "   macro avg       0.96      0.97      0.96       267\n",
            "weighted avg       0.97      0.96      0.96       267\n",
            "\n"
          ]
        }
      ]
    },
    {
      "cell_type": "code",
      "source": [
        "sample_text=('В сотрудничестве с ведущими немецкими языковедами и филологами, федеральным министерством образования и научных исследований Германии, был представлен обновленный политкорректный вариант школьного учебника по немецкому языку. Особое внимание в пособии уделено разделу «Корректные извинения перед гостями из Африки». Кроме форм правильного обращения к иностранцам, в книге можно ознакомиться с кулинарными предпочтениями народов, тенденциями моды и особенностями религиозных обычаев. «Многие гости из стран Африки стали полноценными членами немецкого социума. Если мы не научимся сами, и не научим своих детей правильно с ними взаимодействовать, может случиться серьезный конфликт, который никому не нужен», — сказала глава министерства образования ФРГ Аня Карличек.=')"
      ],
      "metadata": {
        "id": "fLBlYVFos7HW"
      },
      "execution_count": 143,
      "outputs": []
    },
    {
      "cell_type": "code",
      "source": [
        "predicted_sgd = sgd_ppl_clf.predict([sample_text])"
      ],
      "metadata": {
        "id": "OeDKUNtiqs8G"
      },
      "execution_count": 144,
      "outputs": []
    },
    {
      "cell_type": "code",
      "source": [
        "print(predicted_sgd)"
      ],
      "metadata": {
        "colab": {
          "base_uri": "https://localhost:8080/"
        },
        "id": "a17Rv6TBq4oU",
        "outputId": "5ba3db91-fc07-4821-c9ae-00744f83941f"
      },
      "execution_count": 145,
      "outputs": [
        {
          "output_type": "stream",
          "name": "stdout",
          "text": [
            "[0]\n"
          ]
        }
      ]
    }
  ]
}
