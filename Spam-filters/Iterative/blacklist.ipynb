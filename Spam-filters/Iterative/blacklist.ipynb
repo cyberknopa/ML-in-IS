{
 "cells": [
  {
   "cell_type": "code",
   "execution_count": 21,
   "outputs": [],
   "source": [
    "import os\n",
    "import pickle\n",
    "import main\n",
    "import nltk\n",
    "from nltk.corpus import state_union\n",
    "from nltk.tokenize import PunktSentenceTokenizer"
   ],
   "metadata": {
    "collapsed": false,
    "pycharm": {
     "name": "#%%\n"
    }
   }
  },
  {
   "cell_type": "code",
   "execution_count": 22,
   "outputs": [],
   "source": [
    "DATA_DIR = 'datasets/trec07p/data/'\n",
    "LABELS_FILE = 'datasets/trec07p/full/index'\n",
    "TRAINING_SET_RATIO = 0.5"
   ],
   "metadata": {
    "collapsed": false,
    "pycharm": {
     "name": "#%%\n"
    }
   }
  },
  {
   "cell_type": "code",
   "execution_count": 23,
   "outputs": [],
   "source": [
    "labels = {}\n",
    "spam_words = set()\n",
    "ham_words = set()"
   ],
   "metadata": {
    "collapsed": false,
    "pycharm": {
     "name": "#%%\n"
    }
   }
  },
  {
   "cell_type": "code",
   "execution_count": 24,
   "outputs": [],
   "source": [
    "# чтение меток\n",
    "with open(LABELS_FILE) as f:\n",
    "    for line in f:\n",
    "        line = line.strip()\n",
    "        label, key = line.split()\n",
    "        labels[key.split('/')[-1]] = 1 if label.lower() == 'ham' else 0"
   ],
   "metadata": {
    "collapsed": false,
    "pycharm": {
     "name": "#%%\n"
    }
   }
  },
  {
   "cell_type": "code",
   "execution_count": 33,
   "outputs": [
    {
     "name": "stdout",
     "output_type": "stream",
     "text": [
      "Blacklist of 97598 tokens is ready\n"
     ]
    }
   ],
   "source": [
    "# Разделение массива на тренировочный и тестовый\n",
    "filelist = os.listdir(DATA_DIR)\n",
    "X_train = filelist[:int(len(filelist)*TRAINING_SET_RATIO)]\n",
    "X_test = filelist[int(len(filelist)*TRAINING_SET_RATIO):]\n",
    "\n",
    "if not os.path.exists('blacklist.pkl'):\n",
    "    for filename in X_train:\n",
    "        path = os.path.join(DATA_DIR, filename)\n",
    "        if filename in labels:\n",
    "            label = labels[filename]\n",
    "            stems = main.load(path)\n",
    "            if not stems:\n",
    "                continue\n",
    "            if label == 1:\n",
    "                ham_words.update(stems)\n",
    "            elif label == 0:\n",
    "                spam_words.update(stems)\n",
    "            else:\n",
    "                continue\n",
    "    blacklist = spam_words - ham_words\n",
    "    pickle.dump(blacklist, open('blacklist.pkl', 'wb'))\n",
    "else:\n",
    "    blacklist = pickle.load(open('blacklist.pkl', 'rb') )\n",
    "print('Blacklist of {} tokens is ready'.format(len(blacklist)))"
   ],
   "metadata": {
    "collapsed": false,
    "pycharm": {
     "name": "#%%\n"
    }
   }
  },
  {
   "cell_type": "code",
   "execution_count": 26,
   "outputs": [
    {
     "name": "stderr",
     "output_type": "stream",
     "text": [
      "[nltk_data] Downloading package words to\n",
      "[nltk_data]     /Users/veronikagavrilova/nltk_data...\n",
      "[nltk_data]   Package words is already up-to-date!\n"
     ]
    },
    {
     "data": {
      "text/plain": "{'longhair',\n 'adroit',\n 'percussionist',\n 'airfield',\n 'demigod',\n 'agal',\n 'suzerain',\n 'dotal',\n 'leapt',\n 'perfectionist',\n 'cyp',\n 'makeshift',\n 'sportswear',\n 'ropewalk',\n 'daffodil',\n 'whooper',\n 'hoi',\n 'tule',\n 'horticulturist',\n 'urchin',\n 'plastisol',\n 'statolith',\n 'blest',\n 'bub',\n 'perfecto',\n 'untrain',\n 'dickcissel',\n 'georgic',\n 'weasel',\n 'caracol',\n 'oast',\n 'tobacconist',\n 'thill',\n 'adjunct',\n 'astern',\n 'fiefdom',\n 'genuflect',\n 'zag',\n 'doorman',\n 'hatbox',\n 'camelopard',\n 'bevel',\n 'zoologist',\n 'vireo',\n 'gelatin',\n 'throve',\n 'kiosk',\n 'pall',\n 'checkup',\n 'carotenoid',\n 'bedstead',\n 'jacana',\n 'casein',\n 'bypath',\n 'revivalist',\n 'thine',\n 'nominal',\n 'disinfect',\n 'clink',\n 'ammono',\n 'pidan',\n 'pupa',\n 'gopher',\n 'tope',\n 'sori',\n 'bouncer',\n 'stilt',\n 'scull',\n 'unlatch',\n 'vestal',\n 'quorum',\n 'impregn',\n 'toldo',\n 'struthioniform',\n 'yelp',\n 'tum',\n 'vortex',\n 'homonym',\n 'steamer',\n 'bade',\n 'kat',\n 'veranda',\n 'underfoot',\n 'viceroy',\n 'chaw',\n 'pizzeria',\n 'waft',\n 'bailiff',\n 'danton',\n 'laird',\n 'streng',\n 'woundwort',\n 'ilia',\n 'peignoir',\n 'byth',\n 'floral',\n 'precook',\n 'denim',\n 'knead',\n 'decontrol',\n 'mirepoix',\n 'overspread',\n 'wem',\n 'unlearn',\n 'bun',\n 'croucher',\n 'teeter',\n 'auklet',\n 'burp',\n 'cush',\n 'gospel',\n 'chare',\n 'maladroit',\n 'axil',\n 'antichrist',\n 'soothsay',\n 'simian',\n 'copa',\n 'casebook',\n 'carbo',\n 'nylon',\n 'sauerkraut',\n 'conceit',\n 'boun',\n 'synch',\n 'sitch',\n 'mian',\n 'principiant',\n 'westernmost',\n 'genu',\n 'lumberjack',\n 'stucco',\n 'solenoid',\n 'abolitionist',\n 'toat',\n 'unsnap',\n 'centum',\n 'navel',\n 'maim',\n 'tundra',\n 'quickset',\n 'palestra',\n 'rhea',\n 'woodchuck',\n 'trill',\n 'turnip',\n 'stateroom',\n 'peed',\n 'werent',\n 'unequal',\n 'shap',\n 'heartleaf',\n 'penis',\n 'camber',\n 'storer',\n 'mortgage',\n 'affray',\n 'inheritor',\n 'hove',\n 'succursal',\n 'muzz',\n 'sixteenth',\n 'radiocarbon',\n 'broo',\n 'serin',\n 'pessimum',\n 'totter',\n 'geneticist',\n 'mestizo',\n 'citric',\n 'castanet',\n 'tumult',\n 'sher',\n 'rougher',\n 'goi',\n 'wretch',\n 'caraway',\n 'bullhead',\n 'armament',\n 'swinger',\n 'pock',\n 'alluvion',\n 'sordid',\n 'nymphet',\n 'forewarn',\n 'conclusion',\n 'spellbind',\n 'lurid',\n 'charger',\n 'yellowish',\n 'relevant',\n 'hernia',\n 'anoa',\n 'odor',\n 'pape',\n 'eighteenth',\n 'hairdo',\n 'consonant',\n 'lop',\n 'bred',\n 'margarin',\n 'pernyi',\n 'polygam',\n 'bier',\n 'mage',\n 'archipelago',\n 'coxa',\n 'damiana',\n 'letterhead',\n 'chevron',\n 'tourniquet',\n 'rosal',\n 'dauber',\n 'zooplankton',\n 'gullet',\n 'campion',\n 'strychnin',\n 'prosoma',\n 'quadrant',\n 'saloon',\n 'stammer',\n 'sola',\n 'flix',\n 'delicatessen',\n 'quillwort',\n 'sacred',\n 'ssu',\n 'rimless',\n 'kola',\n 'baobab',\n 'autobahn',\n 'tempora',\n 'bewith',\n 'ako',\n 'pictogram',\n 'coelacanth',\n 'vertical',\n 'dermal',\n 'rhymer',\n 'gallic',\n 'viga',\n 'shire',\n 'sora',\n 'whopper',\n 'peeler',\n 'unstylish',\n 'cenotaph',\n 'ordinar',\n 'toa',\n 'pand',\n 'secessionist',\n 'minnow',\n 'nativist',\n 'buckwheat',\n 'sweatband',\n 'milord',\n 'fant',\n 'rodd',\n 'beswarm',\n 'reim',\n 'brackish',\n 'pentathlon',\n 'lifehold',\n 'silica',\n 'whirlwind',\n 'danglin',\n 'outgrow',\n 'fot',\n 'gondola',\n 'gerfalcon',\n 'swa',\n 'titi',\n 'secreto',\n 'anta',\n 'bipod',\n 'pagan',\n 'loca',\n 'tamarin',\n 'tute',\n 'spitz',\n 'trisect',\n 'unal',\n 'drier',\n 'smolt',\n 'stallion',\n 'outspread',\n 'mysid',\n 'muscat',\n 'bottommost',\n 'leaner',\n 'vallum',\n 'herbalist',\n 'corker',\n 'pepo',\n 'nightdress',\n 'subinform',\n 'plastron',\n 'righteous',\n 'rooker',\n 'copra',\n 'sla',\n 'putback',\n 'industrialist',\n 'fluster',\n 'druidism',\n 'egress',\n 'kudzu',\n 'northernmost',\n 'overhunt',\n 'acknow',\n 'kugel',\n 'bubo',\n 'parsnip',\n 'culebra',\n 'spanner',\n 'cicer',\n 'baseboard',\n 'tripper',\n 'coachman',\n 'incorrupt',\n 'rana',\n 'olden',\n 'weal',\n 'crowfoot',\n 'pupal',\n 'maneuver',\n 'buzzard',\n 'atter',\n 'ism',\n 'mastiff',\n 'augen',\n 'choral',\n 'helleri',\n 'redcoat',\n 'quadrivium',\n 'rima',\n 'theropod',\n 'flyer',\n 'margarita',\n 'paler',\n 'perciform',\n 'salix',\n 'triumphal',\n 'cinnamon',\n 'castral',\n 'nook',\n 'eaglet',\n 'hummingbird',\n 'illegal',\n 'ura',\n 'doorknob',\n 'cotyledon',\n 'pagina',\n 'waster',\n 'sienna',\n 'yeoman',\n 'sonnet',\n 'wadi',\n 'moksha',\n 'vesper',\n 'cation',\n 'rum',\n 'grosser',\n 'stainless',\n 'towboat',\n 'macer',\n 'lepidopteran',\n 'postbox',\n 'feme',\n 'draught',\n 'rancher',\n 'scrubland',\n 'inlet',\n 'rainless',\n 'autogiro',\n 'vermin',\n 'flit',\n 'twant',\n 'reproof',\n 'allyl',\n 'beheld',\n 'pudu',\n 'twerp',\n 'locomotor',\n 'kicker',\n 'deva',\n 'bott',\n 'barium',\n 'alderman',\n 'overstock',\n 'burbank',\n 'uitspan',\n 'garnett',\n 'kike',\n 'conic',\n 'teal',\n 'satan',\n 'chambermaid',\n 'medievalist',\n 'emmet',\n 'skitter',\n 'quarryman',\n 'minuteman',\n 'pilar',\n 'oclock',\n 'pur',\n 'palp',\n 'nard',\n 'directrix',\n 'ruru',\n 'formic',\n 'sixer',\n 'pard',\n 'grossen',\n 'bloop',\n 'bedim',\n 'formless',\n 'scat',\n 'yogi',\n 'retrogress',\n 'philologist',\n 'scopa',\n 'abigail',\n 'pinnatifid',\n 'waer',\n 'biltong',\n 'rata',\n 'afforest',\n 'blain',\n 'rhine',\n 'gyrfalcon',\n 'corymb',\n 'punctual',\n 'arna',\n 'macula',\n 'sphenic',\n 'clitter',\n 'decamp',\n 'jackman',\n 'ogress',\n 'sentient',\n 'nychthemeron',\n 'slut',\n 'smoot',\n 'lill',\n 'zig',\n 'isthmian',\n 'loll',\n 'brill',\n 'mesopotamia',\n 'fatherless',\n 'blare',\n 'looker',\n 'ambo',\n 'becloud',\n 'toothpick',\n 'astart',\n 'mola',\n 'protestant',\n 'billiard',\n 'coot',\n 'fourfold',\n 'skelter',\n 'motherland',\n 'wort',\n 'grosbeak',\n 'malar',\n 'brewster',\n 'gynoecium',\n 'gush',\n 'friar',\n 'semiarid',\n 'auk',\n 'limequat',\n 'ungloss',\n 'garlic',\n 'practical',\n 'botanist',\n 'weld',\n 'naw',\n 'ersatz',\n 'spinneret',\n 'kaka',\n 'proo',\n 'atheism',\n 'tatler',\n 'runway',\n 'crowbait',\n 'zorro',\n 'pome',\n 'baba',\n 'palaeolith',\n 'triton',\n 'quencher',\n 'byword',\n 'betoken',\n 'countess',\n 'cinch',\n 'tern',\n 'tean',\n 'peal',\n 'taum',\n 'anda',\n 'refract',\n 'exter',\n 'shou',\n 'whorl',\n 'headsman',\n 'caza',\n 'mink',\n 'proa',\n 'lath',\n 'condominium',\n 'emboss',\n 'ejector',\n 'genealogist',\n 'campground',\n 'slung',\n 'courtier',\n 'cyst',\n 'baboon',\n 'confect',\n 'sextillion',\n 'swordsmanship',\n 'inearth',\n 'flamenco',\n 'jete',\n 'affection',\n 'causey',\n 'horseless',\n 'prehuman',\n 'alkali',\n 'decoct',\n 'murmur',\n 'rusk',\n 'ponto',\n 'loo',\n 'fairyland',\n 'eyelid',\n 'neer',\n 'quinto',\n 'rococo',\n 'wrongdoer',\n 'arrowwood',\n 'harr',\n 'monograph',\n 'monotheist',\n 'engine',\n 'tessel',\n 'mewer',\n 'microlepidoptera',\n 'corpora',\n 'caviar',\n 'spart',\n 'rondeau',\n 'hymn',\n 'chee',\n 'twat',\n 'limitless',\n 'yokel',\n 'voivodeship',\n 'octan',\n 'joiner',\n 'humbug',\n 'rist',\n 'brocket',\n 'saskatoon',\n 'krypton',\n 'melon',\n 'lifeguard',\n 'readership',\n 'monomer',\n 'muntjac',\n 'stamen',\n 'bogart',\n 'flutter',\n 'admi',\n 'cockerel',\n 'toric',\n 'apocalypt',\n 'puncher',\n 'teaspoon',\n 'cabriolet',\n 'chopper',\n 'polygyn',\n 'scho',\n 'codex',\n 'lira',\n 'explosion',\n 'wingless',\n 'injector',\n 'jellyfish',\n 'spieler',\n 'basswood',\n 'dialer',\n 'docent',\n 'taxonomist',\n 'bedead',\n 'breadroot',\n 'chiefship',\n 'unsuccessful',\n 'reget',\n 'dreg',\n 'jingal',\n 'slyness',\n 'dimorph',\n 'calumet',\n 'emulsion',\n 'whoo',\n 'hemp',\n 'slant',\n 'chider',\n 'royalist',\n 'dobbin',\n 'barit',\n 'stratagem',\n 'meridian',\n 'toon',\n 'ecad',\n 'wah',\n 'potlatch',\n 'quay',\n 'stero',\n 'wight',\n 'nog',\n 'cultivar',\n 'doon',\n 'mischief',\n 'endocranium',\n 'aum',\n 'motherless',\n 'darken',\n 'eer',\n 'plainer',\n 'christen',\n 'quod',\n 'arbutin',\n 'syconium',\n 'duet',\n 'overlain',\n 'shedder',\n 'ligament',\n 'axon',\n 'plump',\n 'freehand',\n 'mott',\n 'butyr',\n 'anarch',\n 'starlit',\n 'dern',\n 'aviatrix',\n 'knockdown',\n 'sphincter',\n 'redevelop',\n 'matchbook',\n 'characin',\n 'slum',\n 'cretin',\n 'chais',\n 'keto',\n 'catkin',\n 'yawl',\n 'crept',\n 'ammonia',\n 'guana',\n 'pugilist',\n 'attorn',\n 'snifter',\n 'musical',\n 'remit',\n 'cupric',\n 'plagiarist',\n 'daybreak',\n 'axoplasm',\n 'heyday',\n 'archway',\n 'ankh',\n 'commot',\n 'iceman',\n 'pergola',\n 'tical',\n 'softwood',\n 'burrow',\n 'thirteenth',\n 'capital',\n 'tarot',\n 'chartist',\n 'broch',\n 'wastrel',\n 'arrowroot',\n 'phot',\n 'ascidian',\n 'succumb',\n 'moro',\n 'treeless',\n 'rehash',\n 'entreat',\n 'zeppelin',\n 'raindrop',\n 'bagworm',\n 'muskeg',\n 'tenderfoot',\n 'debar',\n 'blindfold',\n 'unction',\n 'verdant',\n 'rotunda',\n 'egalitarian',\n 'satin',\n 'regrow',\n 'morgen',\n 'broccoli',\n 'tortilla',\n 'fibrin',\n 'caliph',\n 'errant',\n 'fiberboard',\n 'libido',\n 'coronet',\n 'forkbeard',\n 'bannock',\n 'sweater',\n 'cuckoo',\n 'vatman',\n 'triggerfish',\n 'cadenza',\n 'ataman',\n 'daresay',\n 'saron',\n 'birk',\n 'vanguard',\n 'hokum',\n 'overfish',\n 'ovipositor',\n 'milfoil',\n 'imago',\n 'doorless',\n 'busine',\n 'torchlight',\n 'rated',\n 'hatchet',\n 'linsey',\n 'lino',\n 'triptych',\n 'ribe',\n 'wawa',\n 'proximo',\n 'sailboat',\n 'winch',\n 'buxom',\n 'handmaid',\n 'lowder',\n 'dildo',\n 'lordship',\n 'cerulean',\n 'eland',\n 'stockpot',\n 'filo',\n 'apartheid',\n 'olent',\n 'protea',\n 'firmer',\n 'banzai',\n 'redd',\n 'vagina',\n 'sagebrush',\n 'inbreed',\n 'outen',\n 'glee',\n 'druid',\n 'bungalow',\n 'lora',\n 'akimbo',\n 'gelt',\n 'chut',\n 'straightway',\n 'doltish',\n 'apocryph',\n 'waterfowl',\n 'leger',\n 'fantastico',\n 'pater',\n 'phenol',\n 'pyrene',\n 'cloudburst',\n 'lousewort',\n 'multicolor',\n 'holster',\n 'culver',\n 'sain',\n 'turnkey',\n 'burgh',\n 'kina',\n 'hander',\n 'whitish',\n 'landward',\n 'scoreless',\n 'wasteland',\n 'courser',\n 'survivalist',\n 'remodel',\n 'wader',\n 'gat',\n 'couplet',\n 'anuran',\n 'multiplet',\n 'kickshaw',\n 'mainsail',\n 'tessera',\n 'chuff',\n 'conga',\n 'langur',\n 'healer',\n 'gait',\n 'mutton',\n 'bookworm',\n 'bigmouth',\n 'blackcap',\n 'taximan',\n 'sprout',\n 'leek',\n 'sympodial',\n 'vowel',\n 'tetraploid',\n 'pert',\n 'rebook',\n 'conflux',\n 'swallo',\n 'succor',\n 'clarendon',\n 'figment',\n 'prolonge',\n 'finch',\n 'doff',\n 'willow',\n 'latchkey',\n 'schreiner',\n 'paintless',\n 'pistil',\n 'mandala',\n 'uncontrol',\n 'moorland',\n 'beret',\n 'electrician',\n 'recoil',\n 'extensor',\n 'nar',\n 'iambic',\n 'greenfinch',\n 'cheerful',\n 'pinkish',\n 'souther',\n 'pul',\n 'excreta',\n 'citril',\n 'unreal',\n 'facer',\n 'woeful',\n 'corrigenda',\n 'impound',\n 'bawl',\n 'aboveboard',\n 'hardwood',\n 'backcross',\n 'gull',\n 'erical',\n 'joyful',\n 'reallow',\n 'turret',\n 'sheepskin',\n 'talker',\n 'townsfolk',\n 'tari',\n 'gingerbread',\n 'fortin',\n 'knave',\n 'bayard',\n 'fervent',\n 'scabbard',\n 'theologian',\n 'samara',\n 'sleet',\n 'hawfinch',\n 'nep',\n 'sago',\n 'slit',\n 'creak',\n 'cerebra',\n 'watchword',\n 'theat',\n 'apod',\n 'sparerib',\n 'lenticel',\n 'shipman',\n 'sequin',\n 'snorkel',\n 'terzo',\n 'labrusca',\n 'damned',\n 'ephyra',\n 'vermilion',\n 'whitebark',\n 'ghazi',\n 'sension',\n 'thong',\n 'balderdash',\n 'somerset',\n 'uncouth',\n 'gruiform',\n 'greenbrier',\n 'cashier',\n 'anonymous',\n 'woodruff',\n 'tai',\n 'thicken',\n 'dendron',\n 'hoof',\n 'waistcoat',\n 'trinitarian',\n 'hinau',\n 'geranium',\n 'furioso',\n 'attern',\n 'dae',\n 'argent',\n 'adead',\n 'milt',\n 'topless',\n 'abac',\n 'angioma',\n 'register',\n 'undergrowth',\n 'hereabout',\n 'laurin',\n 'strix',\n 'paroxysm',\n 'dimmer',\n 'saya',\n 'sleigher',\n 'gangway',\n 'intrust',\n 'maltreat',\n 'antiqua',\n 'binder',\n 'quintillion',\n 'onym',\n 'coarsen',\n 'moko',\n 'atlas',\n 'ironwork',\n 'dogtooth',\n 'muttonbird',\n 'savanna',\n 'empower',\n 'vicious',\n 'tome',\n 'dult',\n 'erg',\n 'caroli',\n 'phon',\n 'regula',\n 'batik',\n 'trist',\n 'ula',\n 'roentgen',\n 'pardner',\n 'tauranga',\n 'abolition',\n 'thrower',\n 'eyelet',\n 'toad',\n 'tripod',\n 'fetid',\n 'doucet',\n 'polecat',\n 'crock',\n 'coloss',\n 'dasi',\n 'blotter',\n 'yarrow',\n 'basilisk',\n 'capuchin',\n 'preferent',\n 'burro',\n 'afghani',\n 'tasteless',\n 'bodkin',\n 'phobic',\n 'cattleman',\n 'amoeba',\n 'houseboat',\n 'seral',\n 'adieu',\n 'dysplasia',\n 'roun',\n 'californium',\n 'mino',\n 'bellboy',\n 'dollop',\n 'plover',\n ...}"
     },
     "execution_count": 26,
     "metadata": {},
     "output_type": "execute_result"
    }
   ],
   "source": [
    "nltk.download('words')\n",
    "from nltk.corpus import words\n",
    "word_set = set(words.words())\n",
    "word_set.intersection(blacklist)"
   ],
   "metadata": {
    "collapsed": false,
    "pycharm": {
     "name": "#%%\n"
    }
   }
  },
  {
   "cell_type": "code",
   "execution_count": 27,
   "outputs": [],
   "source": [
    "fp = 0\n",
    "tp = 0\n",
    "fn = 0\n",
    "tn = 0\n",
    "\n",
    "for filename in X_test:\n",
    "    path = os.path.join(DATA_DIR, filename)\n",
    "    if filename in labels:\n",
    "        label = labels[filename]\n",
    "        stems = main.load(path)\n",
    "        if not stems:\n",
    "            continue\n",
    "        stems_set = set(stems)\n",
    "        if stems_set & blacklist:\n",
    "            if label == 1:\n",
    "                fp = fp + 1\n",
    "            else:\n",
    "                tp = tp + 1\n",
    "        else:\n",
    "            if label == 1:\n",
    "                tn = tn + 1\n",
    "            else:\n",
    "                fn = fn + 1"
   ],
   "metadata": {
    "collapsed": false,
    "pycharm": {
     "name": "#%%\n"
    }
   }
  },
  {
   "cell_type": "code",
   "execution_count": 31,
   "outputs": [
    {
     "name": "stdout",
     "output_type": "stream",
     "text": [
      "[[11916, 700], [9071, 13084]]\n"
     ]
    }
   ],
   "source": [
    "conf_matrix = [[tn, fp],\n",
    "               [fn, tp]]\n",
    "print(conf_matrix)"
   ],
   "metadata": {
    "collapsed": false,
    "pycharm": {
     "name": "#%%\n"
    }
   }
  },
  {
   "cell_type": "code",
   "execution_count": 32,
   "outputs": [
    {
     "name": "stdout",
     "output_type": "stream",
     "text": [
      "[['34.3%', '2.0%'], ['26.1%', '37.6%']]\n"
     ]
    }
   ],
   "source": [
    "count = tn + tp + fn + fp\n",
    "percent_matrix = [[\"{:.1%}\".format(tn/count), \"{:.1%}\".format(fp/count)],\n",
    "                  [\"{:.1%}\".format(fn/count), \"{:.1%}\".format(tp/count)]]\n",
    "print(percent_matrix)"
   ],
   "metadata": {
    "collapsed": false,
    "pycharm": {
     "name": "#%%\n"
    }
   }
  },
  {
   "cell_type": "code",
   "execution_count": 30,
   "outputs": [
    {
     "name": "stdout",
     "output_type": "stream",
     "text": [
      "Classification accuracy: 71.9%\n"
     ]
    }
   ],
   "source": [
    "print(\"Classification accuracy: {}\".format(\"{:.1%}\".format((tp+tn)/count)))"
   ],
   "metadata": {
    "collapsed": false,
    "pycharm": {
     "name": "#%%\n"
    }
   }
  },
  {
   "cell_type": "code",
   "execution_count": null,
   "outputs": [],
   "source": [],
   "metadata": {
    "collapsed": false,
    "pycharm": {
     "name": "#%%\n"
    }
   }
  }
 ],
 "metadata": {
  "kernelspec": {
   "display_name": "Python 3",
   "language": "python",
   "name": "python3"
  },
  "language_info": {
   "codemirror_mode": {
    "name": "ipython",
    "version": 2
   },
   "file_extension": ".py",
   "mimetype": "text/x-python",
   "name": "python",
   "nbconvert_exporter": "python",
   "pygments_lexer": "ipython2",
   "version": "2.7.6"
  }
 },
 "nbformat": 4,
 "nbformat_minor": 0
}
