{
 "cells": [
  {
   "cell_type": "code",
   "execution_count": 1,
   "outputs": [],
   "source": [
    "import pandas as pd\n",
    "from sklearn.model_selection import train_test_split\n",
    "from sklearn.linear_model import LogisticRegression\n",
    "from sklearn.metrics import accuracy_score, confusion_matrix"
   ],
   "metadata": {
    "collapsed": false,
    "pycharm": {
     "name": "#%%\n"
    }
   }
  },
  {
   "cell_type": "code",
   "execution_count": 2,
   "outputs": [],
   "source": [
    "df = pd.read_csv('datasets/payment_fraud.csv')"
   ],
   "metadata": {
    "collapsed": false,
    "pycharm": {
     "name": "#%%\n"
    }
   }
  },
  {
   "cell_type": "code",
   "execution_count": 3,
   "outputs": [
    {
     "data": {
      "text/plain": "       accountAgeDays  numItems  localTime paymentMethod  \\\n38664             682         1   4.505662    creditcard   \n14729              24         2   4.748314        paypal   \n20956            2000         1   5.034622        paypal   \n13651            1992         1   4.886641    creditcard   \n34940               6         1   4.962055    creditcard   \n\n       paymentMethodAgeDays  label  \n38664               0.00000      0  \n14729               0.00000      0  \n20956               0.00000      0  \n13651             319.75625      0  \n34940               0.00000      0  ",
      "text/html": "<div>\n<style scoped>\n    .dataframe tbody tr th:only-of-type {\n        vertical-align: middle;\n    }\n\n    .dataframe tbody tr th {\n        vertical-align: top;\n    }\n\n    .dataframe thead th {\n        text-align: right;\n    }\n</style>\n<table border=\"1\" class=\"dataframe\">\n  <thead>\n    <tr style=\"text-align: right;\">\n      <th></th>\n      <th>accountAgeDays</th>\n      <th>numItems</th>\n      <th>localTime</th>\n      <th>paymentMethod</th>\n      <th>paymentMethodAgeDays</th>\n      <th>label</th>\n    </tr>\n  </thead>\n  <tbody>\n    <tr>\n      <th>38664</th>\n      <td>682</td>\n      <td>1</td>\n      <td>4.505662</td>\n      <td>creditcard</td>\n      <td>0.00000</td>\n      <td>0</td>\n    </tr>\n    <tr>\n      <th>14729</th>\n      <td>24</td>\n      <td>2</td>\n      <td>4.748314</td>\n      <td>paypal</td>\n      <td>0.00000</td>\n      <td>0</td>\n    </tr>\n    <tr>\n      <th>20956</th>\n      <td>2000</td>\n      <td>1</td>\n      <td>5.034622</td>\n      <td>paypal</td>\n      <td>0.00000</td>\n      <td>0</td>\n    </tr>\n    <tr>\n      <th>13651</th>\n      <td>1992</td>\n      <td>1</td>\n      <td>4.886641</td>\n      <td>creditcard</td>\n      <td>319.75625</td>\n      <td>0</td>\n    </tr>\n    <tr>\n      <th>34940</th>\n      <td>6</td>\n      <td>1</td>\n      <td>4.962055</td>\n      <td>creditcard</td>\n      <td>0.00000</td>\n      <td>0</td>\n    </tr>\n  </tbody>\n</table>\n</div>"
     },
     "execution_count": 3,
     "metadata": {},
     "output_type": "execute_result"
    }
   ],
   "source": [
    "df.sample(5)"
   ],
   "metadata": {
    "collapsed": false,
    "pycharm": {
     "name": "#%%\n"
    }
   }
  },
  {
   "cell_type": "code",
   "execution_count": 4,
   "outputs": [
    {
     "data": {
      "text/plain": "       accountAgeDays  numItems  localTime  paymentMethodAgeDays  label  \\\n5438               17         1   4.745402              0.000000      0   \n27434            1190         1   5.040929              0.000000      0   \n17954              29         1   4.524580             28.820139      0   \n\n       paymentMethod_creditcard  paymentMethod_paypal  \\\n5438                          1                     0   \n27434                         1                     0   \n17954                         1                     0   \n\n       paymentMethod_storecredit  \n5438                           0  \n27434                          0  \n17954                          0  ",
      "text/html": "<div>\n<style scoped>\n    .dataframe tbody tr th:only-of-type {\n        vertical-align: middle;\n    }\n\n    .dataframe tbody tr th {\n        vertical-align: top;\n    }\n\n    .dataframe thead th {\n        text-align: right;\n    }\n</style>\n<table border=\"1\" class=\"dataframe\">\n  <thead>\n    <tr style=\"text-align: right;\">\n      <th></th>\n      <th>accountAgeDays</th>\n      <th>numItems</th>\n      <th>localTime</th>\n      <th>paymentMethodAgeDays</th>\n      <th>label</th>\n      <th>paymentMethod_creditcard</th>\n      <th>paymentMethod_paypal</th>\n      <th>paymentMethod_storecredit</th>\n    </tr>\n  </thead>\n  <tbody>\n    <tr>\n      <th>5438</th>\n      <td>17</td>\n      <td>1</td>\n      <td>4.745402</td>\n      <td>0.000000</td>\n      <td>0</td>\n      <td>1</td>\n      <td>0</td>\n      <td>0</td>\n    </tr>\n    <tr>\n      <th>27434</th>\n      <td>1190</td>\n      <td>1</td>\n      <td>5.040929</td>\n      <td>0.000000</td>\n      <td>0</td>\n      <td>1</td>\n      <td>0</td>\n      <td>0</td>\n    </tr>\n    <tr>\n      <th>17954</th>\n      <td>29</td>\n      <td>1</td>\n      <td>4.524580</td>\n      <td>28.820139</td>\n      <td>0</td>\n      <td>1</td>\n      <td>0</td>\n      <td>0</td>\n    </tr>\n  </tbody>\n</table>\n</div>"
     },
     "execution_count": 4,
     "metadata": {},
     "output_type": "execute_result"
    }
   ],
   "source": [
    "df = pd.get_dummies(df, columns=['paymentMethod'])\n",
    "df.sample(3)"
   ],
   "metadata": {
    "collapsed": false,
    "pycharm": {
     "name": "#%%\n"
    }
   }
  },
  {
   "cell_type": "code",
   "execution_count": 5,
   "outputs": [],
   "source": [
    "# Обучение с учителем -логическая регрессия\n",
    "X_train, X_test, y_train, y_test = train_test_split(\n",
    "    df.drop('label', axis=1), df['label'],\n",
    "    test_size=0.33, random_state=17)"
   ],
   "metadata": {
    "collapsed": false,
    "pycharm": {
     "name": "#%%\n"
    }
   }
  },
  {
   "cell_type": "code",
   "execution_count": 6,
   "outputs": [],
   "source": [
    "# сохранение тренировочной модели классификатора\n",
    "clf = LogisticRegression().fit(X_train, y_train)\n",
    "# передача непомеченных признаков в предикт\n",
    "y_pred = clf.predict(X_test)"
   ],
   "metadata": {
    "collapsed": false,
    "pycharm": {
     "name": "#%%\n"
    }
   }
  },
  {
   "cell_type": "code",
   "execution_count": 7,
   "outputs": [
    {
     "name": "stdout",
     "output_type": "stream",
     "text": [
      "1.0\n",
      "[[12753     0]\n",
      " [    0   190]]\n"
     ]
    }
   ],
   "source": [
    "print(accuracy_score(y_pred, y_test))\n",
    "print(confusion_matrix(y_test, y_pred))"
   ],
   "metadata": {
    "collapsed": false,
    "pycharm": {
     "name": "#%%\n"
    }
   }
  }
 ],
 "metadata": {
  "kernelspec": {
   "display_name": "Python 3",
   "language": "python",
   "name": "python3"
  },
  "language_info": {
   "codemirror_mode": {
    "name": "ipython",
    "version": 2
   },
   "file_extension": ".py",
   "mimetype": "text/x-python",
   "name": "python",
   "nbconvert_exporter": "python",
   "pygments_lexer": "ipython2",
   "version": "2.7.6"
  }
 },
 "nbformat": 4,
 "nbformat_minor": 0
}